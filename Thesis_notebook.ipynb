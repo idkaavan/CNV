{
 "cells": [
  {
   "cell_type": "code",
   "execution_count": null,
   "id": "efeec939-8123-456c-adb6-3acde8ff55c0",
   "metadata": {},
   "outputs": [],
   "source": [
    "options(warn = -1)\n",
    "library(dplyr)\n",
    "library(repr)\n",
    "library(Seurat)\n",
    "library(reticulate)\n",
    "library(data.table)\n",
    "library(ggplot2)"
   ]
  },
  {
   "cell_type": "code",
   "execution_count": null,
   "id": "f7ea3f46-16c6-40a9-bcce-9bd1623edc91",
   "metadata": {},
   "outputs": [],
   "source": [
    "df <- read.table(\"/research/groups/bioinformaticians/internship/aalizade/Trainee/infercnv/40D_few_new/infercnv.observation_groupings.txt\", header = TRUE, sep = \" \", quote=\"\\\"\", stringsAsFactors = FALSE)\n",
    "library(Seurat)\n",
    "a <- readRDS(\"/research/groups/bioinformaticians/internship/aalizade/Thesis/scRNA/singler/40D.rds\")\n",
    "sobj <- UpdateSeuratObject(object = a)\n",
    "cells_to_find <- rownames(df)\n",
    "df$singlr_labels <- sobj@meta.data[cells_to_find, \"singlr_labels\"]"
   ]
  },
  {
   "cell_type": "code",
   "execution_count": 4,
   "id": "532eebe4-6692-4c78-9b8b-d303516a0260",
   "metadata": {
    "scrolled": true
   },
   "outputs": [],
   "source": [
    "df <- read.table(\"/research/groups/bioinformaticians/internship/aalizade/Trainee/infercnv/10x/42D_k5/HMM_CNV_predictions.HMMi6.leiden.hmm_mode-subclusters.Pnorm_0.5.pred_cnv_regions.dat\", sep = \"\\t\", header = TRUE)"
   ]
  },
  {
   "cell_type": "code",
   "execution_count": null,
   "id": "b02ea77f-b8ee-40b6-8a76-441a6fb12214",
   "metadata": {},
   "outputs": [],
   "source": [
    "df_merged <- df %>%\n",
    "  mutate(state = state - 1) %>%  # Subtract 1 from all state values\n",
    "  filter(state != 2) %>%  # Remove rows where the new state == 2 (normal, original state == 3)\n",
    "  group_by(state, chr, start, end) %>%\n",
    "  summarise(cell_merge = paste(unique(cell_merge), collapse = \",\"), .groups = \"drop\")\n",
    "dim(df_merged)"
   ]
  },
  {
   "cell_type": "code",
   "execution_count": null,
   "id": "479be08b-59ea-49a4-bfeb-c7e8aeafa69d",
   "metadata": {
    "scrolled": true
   },
   "outputs": [],
   "source": [
    "# remove over-segmented regions by merging them\n",
    "df <- as.data.table(df_merged)\n",
    "df <- df[order(chr, start)]\n",
    "df[, group := cumsum(c(1, diff(start) > 999999 | diff(end) > 999999)), by = .(state, chr)]\n",
    "df_merged <- df[, .(\n",
    "  start = min(start),  # Take the minimum start position in each group\n",
    "  end = max(end),      # Take the maximum end position in each group\n",
    "  cell_merge = paste(unique(cell_merge), collapse = \",\")  # Merge cell names\n",
    "), by = .(state, chr, group)]\n",
    "\n",
    "df_merged[, group := NULL]\n",
    "dim(df_merged)"
   ]
  },
  {
   "cell_type": "code",
   "execution_count": null,
   "id": "2e9d3c76-3d92-4022-8766-e54a871bc9e0",
   "metadata": {},
   "outputs": [],
   "source": [
    "df_m <- df_m[, .(\n",
    "  start = min(start),    # Keep the start value (it will be the same within a group)\n",
    "  end = max(end),        # Keep the maximum end value in the group\n",
    "  state = unique(state),  # Keep the state value\n",
    "cell_merge = paste(unique(cell_merge), collapse = \",\")\n",
    "), by = .(chr, end, state)]\n",
    "df_m[, end := NULL]\n",
    "df_m[, state := NULL]\n",
    "\n",
    "\n",
    "# Print the final result\n",
    "dim(df_m)"
   ]
  },
  {
   "cell_type": "code",
   "execution_count": 9,
   "id": "501e42db-bc16-4797-87fe-eedfbbcc2f86",
   "metadata": {},
   "outputs": [],
   "source": [
    "# changes copy number states to 2 states of duplication and deletion for comparing simplicity \n",
    "df_m <- df_merged\n",
    "df_m <- df_m %>%\n",
    "  mutate(state = ifelse(state == 3, \"DUP\", state))\n",
    "df_m <- df_m %>%\n",
    "  mutate(state = ifelse(state == 4, \"DUP\", state))\n",
    "df_m <- df_m %>%\n",
    "  mutate(state = ifelse(state == 5, \"DUP\", state))\n",
    "df_m <- df_m %>%\n",
    "  mutate(state = ifelse(state == 1, \"DEL\", state))\n",
    "df_m <- df_m %>%\n",
    "  mutate(state = ifelse(state == 0, \"DEL\", state))\n",
    "df_m <- df_m %>%\n",
    "  mutate(state = ifelse(state == 2, \"DEL\", state))\n",
    "table(df_m$state)"
   ]
  },
  {
   "cell_type": "code",
   "execution_count": 12,
   "id": "4ce32285-9180-4307-900e-33a59ba2c160",
   "metadata": {},
   "outputs": [],
   "source": [
    "seg_data <- df_m\n",
    "convert_to_bed <- function(seg_dat) {\n",
    "  bed_data <- data.frame(\n",
    "    chrom = seg_data$chr,\n",
    "    start = seg_data$start - 1,\n",
    "    end = seg_data$end,\n",
    "    name = seg_data$cell_merge,\n",
    "    score = seg_data$state\n",
    "  )\n",
    "  return(bed_data)\n",
    "}\n",
    "bed_data <- convert_to_bed(seg_data)\n",
    "write.table(bed_data, file = \"infercnv.bed\", quote = FALSE, sep = \"\\t\", row.names = FALSE, col.names = FALSE)"
   ]
  },
  {
   "cell_type": "code",
   "execution_count": null,
   "id": "9a67fbaf-07ac-4df7-9cbd-3d06d3ebc738",
   "metadata": {},
   "outputs": [],
   "source": [
    "%%bash\n",
    "module load bedtools/2.30.0\n",
    "a_dir=\"/research/groups/bioinformaticians/internship/aalizade/scenicplus1\"\n",
    "b_file=\"/research/groups/bioinformaticians/internship/aalizade/scenicplus1/blacklist/hg38-blacklist.v2.bed\"\n",
    "for a_file in \"$a_dir\"/*.bed; do\n",
    "    output_file=\"${a_file%.bed}_blck.bed\"\n",
    "    bedtools intersect -a \"$a_file\" -b \"$b_file\" -f 0.50 -v > \"$output_file\"\n",
    "    echo \"Processed $a_file and saved as bed_new\"\n",
    "done"
   ]
  },
  {
   "cell_type": "code",
   "execution_count": null,
   "id": "8647686c-fc41-409f-8cb8-b0434fb0e683",
   "metadata": {},
   "outputs": [],
   "source": [
    "%%bash\n",
    "sort -k1,1V -k2,2n scevan.bed \\\n",
    "> sce.bed\n",
    "\n",
    "%%bash\n",
    "sort -k1,1V -k2,2n infercnv.bed \\\n",
    "> inf.bed\n",
    "\n",
    "%%bash\n",
    "module load bedtools/2.30.0\n",
    "bedtools intersect -a /research/groups/bioinformaticians/internship/aalizade/Thesis/ASCAT/42_DNTR.bed -b sce.bed -f 0.50 -wo > recall_sce.bed\n",
    "\n",
    "%%bash\n",
    "module load bedtools/2.30.0\n",
    "bedtools intersect -a sce.bed -b /research/groups/bioinformaticians/internship/aalizade/Thesis/ASCAT/42_DNTR.bed -F 0.50 -wo > precision_sce.bed"
   ]
  },
  {
   "cell_type": "code",
   "execution_count": null,
   "id": "d2ed0504-9a14-4888-8b50-e30a1608e82b",
   "metadata": {},
   "outputs": [],
   "source": [
    "wgs_infercnv_overlap <- read.table(\"wgs_infercnv_overlap.bed\", header=FALSE, sep=\"\\t\")\n",
    "wgs_scevan_overlap <- read.table(\"wgs_scevan_overlap.bed\", header=FALSE, sep=\"\\t\")\n",
    "\n",
    "colnames(wgs_infercnv_overlap) <- c(\"chr\", \"start\", \"end\", \"major\", \"minor\", \"WGS\", \"length\", \"chr_infercnv\", \"start_infercnv\", \"end_infercnv\", \"clone\", \"InferCNV\")\n",
    "colnames(wgs_scevan_overlap) <- c(\"chr\", \"start\", \"end\", \"major\", \"minor\", \"WGS\", \"length\", \"chr_scevan\", \"start_scevan\", \"end_scevan\", \"clone\", \"SCEVAN\")\n",
    "#wgs_scevan_overlap$WGS <- wgs_scevan_overlap$major + wgs_scevan_overlap$minor\n",
    "#wgs_infercnv_overlap$WGS <- wgs_infercnv_overlap$major + wgs_infercnv_overlap$minor\n",
    "\n",
    "matched_cnv <- merge(wgs_infercnv_overlap[, c(\"chr\", \"start\", \"end\", \"WGS\", \"InferCNV\")], \n",
    "                      wgs_scevan_overlap[, c(\"chr\", \"start\", \"end\", \"SCEVAN\")], \n",
    "                      by = c(\"chr\", \"start\", \"end\"), all = TRUE)"
   ]
  },
  {
   "cell_type": "code",
   "execution_count": null,
   "id": "06e10f5a-9051-4ae3-8dcf-ffb2e135a5f7",
   "metadata": {},
   "outputs": [],
   "source": [
    "df <- matched_cnv\n",
    "df$Agreement <- rowSums(df[, c(\"InferCNV\", \"SCEVAN\")] == df$WGS)\n",
    "df$Mismatch <- df$Agreement < 2  # TRUE if at least one method disagrees\n",
    "head(df)"
   ]
  },
  {
   "cell_type": "code",
   "execution_count": 4,
   "id": "9b40d389-45b5-48f3-99a1-fba42d1a105c",
   "metadata": {},
   "outputs": [
    {
     "data": {
      "text/html": [
       "<strong>pdf:</strong> 2"
      ],
      "text/latex": [
       "\\textbf{pdf:} 2"
      ],
      "text/markdown": [
       "**pdf:** 2"
      ],
      "text/plain": [
       "pdf \n",
       "  2 "
      ]
     },
     "metadata": {},
     "output_type": "display_data"
    }
   ],
   "source": [
    "png(filename = \"/research/groups/bioinformaticians/internship/aalizade/Thesis/cnvagree.png\", width = 500, height = 500)\n",
    "\n",
    "library(ggplot2)\n",
    "ggplot(df, aes(x = as.factor(Agreement))) +\n",
    "  geom_bar(fill = \"blue\") +\n",
    "  labs(title = \"CNV Agreement Between WGS, InferCNV, and SCEVAN\",\n",
    "       x = \"Number of Matching Methods\",\n",
    "       y = \"Count of Regions\")\n",
    "dev.off()"
   ]
  },
  {
   "cell_type": "code",
   "execution_count": 22,
   "id": "87e54002-5413-44dc-8513-6825ebc78d51",
   "metadata": {},
   "outputs": [
    {
     "name": "stderr",
     "output_type": "stream",
     "text": [
      "\n",
      "Attaching package: ‘dplyr’\n",
      "\n",
      "\n",
      "The following objects are masked from ‘package:stats’:\n",
      "\n",
      "    filter, lag\n",
      "\n",
      "\n",
      "The following objects are masked from ‘package:base’:\n",
      "\n",
      "    intersect, setdiff, setequal, union\n",
      "\n",
      "\n"
     ]
    },
    {
     "data": {
      "image/png": "[encoded data removed]",
      "text/plain": [
       "plot without title"
      ]
     },
     "metadata": {
      "image/png": {
       "height": 420,
       "width": 420
      }
     },
     "output_type": "display_data"
    }
   ],
   "source": [
    "df_plot <- data.frame(\n",
    "  Method = rep(c(\"InferCNV\", \"SCEVAN\"), each = 3),\n",
    "  Metric = rep(c(\"Precision\", \"Recall\", \"F1-Score\"), times = 2),\n",
    "  Value = c(InferCNV_Precision, InferCNV_Recall, InferCNV_F1, \n",
    "            SCEVAN_Precision, SCEVAN_Recall, SCEVAN_F1)\n",
    ")\n",
    "ggplot(df_plot, aes(x = Metric, y = Value, fill = Method)) +\n",
    "  geom_bar(stat = \"identity\", position = \"dodge\") +\n",
    "  scale_fill_manual(values = c(\"blue\", \"red\")) +\n",
    "  labs(title = \"Comparison of Precision, Recall, and F1-score\",\n",
    "       x = \"Metric\",\n",
    "       y = \"Score\") +\n",
    "  theme_minimal()"
   ]
  },
  {
   "cell_type": "markdown",
   "id": "c5d9a02f-e6d8-414f-9659-e9dafca6d6e2",
   "metadata": {},
   "source": [
    "## inferCNV"
   ]
  },
  {
   "cell_type": "code",
   "execution_count": 1,
   "id": "6ec144dd-1d85-4bbc-b9a5-8ac04e8bdd79",
   "metadata": {
    "scrolled": true
   },
   "outputs": [
    {
     "name": "stderr",
     "output_type": "stream",
     "text": [
      "\n",
      "Attaching package: ‘dplyr’\n",
      "\n",
      "\n",
      "The following objects are masked from ‘package:stats’:\n",
      "\n",
      "    filter, lag\n",
      "\n",
      "\n",
      "The following objects are masked from ‘package:base’:\n",
      "\n",
      "    intersect, setdiff, setequal, union\n",
      "\n",
      "\n"
     ]
    },
    {
     "name": "stdout",
     "output_type": "stream",
     "text": [
      "\u001b[90m# A tibble: 2 × 2\u001b[39m\n",
      "  V6    count\n",
      "  \u001b[3m\u001b[90m<chr>\u001b[39m\u001b[23m \u001b[3m\u001b[90m<int>\u001b[39m\u001b[23m\n",
      "\u001b[90m1\u001b[39m DEL       5\n",
      "\u001b[90m2\u001b[39m DUP       3\n"
     ]
    }
   ],
   "source": [
    "library(dplyr)\n",
    "df <- read.table(\"recall_inf.bed\", sep = \"\\t\", header = FALSE)\n",
    "df_mutuals <- df %>%\n",
    "  filter(V6 == V11) %>% \n",
    "  group_by(V6) %>%\n",
    "  distinct(V1, V2, V3) %>%\n",
    "  summarise(count = n())\n",
    "\n",
    "print(df_mutuals)"
   ]
  },
  {
   "cell_type": "code",
   "execution_count": 2,
   "id": "f38051df-f002-4ba1-948b-9ee5433c949f",
   "metadata": {},
   "outputs": [
    {
     "name": "stdout",
     "output_type": "stream",
     "text": [
      "\u001b[90m# A tibble: 2 × 2\u001b[39m\n",
      "  V5    count\n",
      "  \u001b[3m\u001b[90m<chr>\u001b[39m\u001b[23m \u001b[3m\u001b[90m<int>\u001b[39m\u001b[23m\n",
      "\u001b[90m1\u001b[39m DEL       7\n",
      "\u001b[90m2\u001b[39m DUP      17\n"
     ]
    }
   ],
   "source": [
    "df <- read.table(\"precision_inf.bed\", sep = \"\\t\", header = FALSE)\n",
    "df_mutuals <- df %>%\n",
    "  filter(V5 == V11) %>% \n",
    "  group_by(V5) %>%\n",
    "  summarise(count = n())\n",
    "\n",
    "print(df_mutuals)"
   ]
  },
  {
   "cell_type": "code",
   "execution_count": 3,
   "id": "75f469bb-5f05-49ad-8f27-f6ac85e88b64",
   "metadata": {},
   "outputs": [
    {
     "data": {
      "text/plain": [
       "\n",
       "DEL DUP \n",
       "  7   3 "
      ]
     },
     "metadata": {},
     "output_type": "display_data"
    }
   ],
   "source": [
    "a <- read.table(\"/research/groups/bioinformaticians/internship/aalizade/Thesis/ASCAT/42_DNTR.bed\", sep =\"\\t\", header = FALSE)\n",
    "#library(dplyr)\n",
    "#a <- a %>% filter(V6 == \"DEL\")\n",
    "table(a$V6)"
   ]
  },
  {
   "cell_type": "code",
   "execution_count": 21,
   "id": "a90d6f3c-eb2b-484b-bafb-3006d2eb6e28",
   "metadata": {},
   "outputs": [
    {
     "data": {
      "text/html": [
       "<strong>pdf:</strong> 2"
      ],
      "text/latex": [
       "\\textbf{pdf:} 2"
      ],
      "text/markdown": [
       "**pdf:** 2"
      ],
      "text/plain": [
       "pdf \n",
       "  2 "
      ]
     },
     "metadata": {},
     "output_type": "display_data"
    }
   ],
   "source": [
    "library(ggplot2)\n",
    "png(filename = \"cnvtype.png\", width = 300, height = 300)\n",
    "\n",
    "df2 <- data.frame(CNV_type=rep(c(\"Gain\", \"Loss\", \"LOH\"), each=3),\n",
    "                Sample=rep(c(\"40D\", \"42D\", \"47D\"),3),\n",
    "                Relative_abundance=c(0.29, 0.12, 0.42, 0.58, 0.88, 0.42, 0.12, 0.08, 0.16))\n",
    "ggplot(data=df2, aes(x=Sample, y=Relative_abundance, fill=CNV_type)) +\n",
    "  geom_bar(stat=\"identity\") +\n",
    "  scale_fill_manual(values = c(\"Gain\" = \"red\", \"Loss\" = \"blue\", \"LOH\" = \"green\")) +\n",
    "  theme_minimal()\n",
    "dev.off()"
   ]
  },
  {
   "cell_type": "markdown",
   "id": "74bc60a3-36eb-4f7a-9d43-5e47f1d97ce6",
   "metadata": {},
   "source": [
    "# SCEVAN"
   ]
  },
  {
   "cell_type": "code",
   "execution_count": 4,
   "id": "bd79438f-f9ba-4a20-8dfd-b4c2311856a7",
   "metadata": {},
   "outputs": [
    {
     "data": {
      "text/html": [
       "<style>\n",
       ".list-inline {list-style: none; margin:0; padding: 0}\n",
       ".list-inline>li {display: inline-block}\n",
       ".list-inline>li:not(:last-child)::after {content: \"\\00b7\"; padding: 0 .5ex}\n",
       "</style>\n",
       "<ol class=list-inline><li>47</li><li>6</li></ol>\n"
      ],
      "text/latex": [
       "\\begin{enumerate*}\n",
       "\\item 47\n",
       "\\item 6\n",
       "\\end{enumerate*}\n"
      ],
      "text/markdown": [
       "1. 47\n",
       "2. 6\n",
       "\n",
       "\n"
      ],
      "text/plain": [
       "[1] 47  6"
      ]
     },
     "metadata": {},
     "output_type": "display_data"
    }
   ],
   "source": [
    "library(dplyr)\n",
    "dir_path <- \"/research/groups/bioinformaticians/internship/aalizade/Thesis/SCEVAN_runs/42IG1clean/\"\n",
    "seg_files <- list.files(path = dir_path, pattern = \".*counts.*\\\\.seg$\", full.names = TRUE)\n",
    "df_list <- list()\n",
    "for (file in seg_files) {\n",
    "  df <- read.table(file, header = TRUE, sep = \"\\t\")\n",
    "  \n",
    "  df <- df %>% filter(CN != 2)\n",
    "  \n",
    "  df$Chr <- paste0(\"chr\", df$Chr)\n",
    "  \n",
    "  df$clone <- gsub(\"^.*/.*?_counts_|\\\\.seg$\", \"\", file)\n",
    "  \n",
    "  df_list[[file]] <- df\n",
    "}\n",
    "\n",
    "merged_df <- bind_rows(df_list)\n",
    "rownames(merged_df) <- NULL\n",
    "dim(merged_df)"
   ]
  },
  {
   "cell_type": "code",
   "execution_count": 5,
   "id": "639fac66-f08a-44d8-9b65-81120d281476",
   "metadata": {},
   "outputs": [
    {
     "name": "stderr",
     "output_type": "stream",
     "text": [
      "\n",
      "Attaching package: ‘data.table’\n",
      "\n",
      "\n",
      "The following objects are masked from ‘package:dplyr’:\n",
      "\n",
      "    between, first, last\n",
      "\n",
      "\n"
     ]
    },
    {
     "data": {
      "text/html": [
       "<style>\n",
       ".list-inline {list-style: none; margin:0; padding: 0}\n",
       ".list-inline>li {display: inline-block}\n",
       ".list-inline>li:not(:last-child)::after {content: \"\\00b7\"; padding: 0 .5ex}\n",
       "</style>\n",
       "<ol class=list-inline><li>36</li><li>5</li></ol>\n"
      ],
      "text/latex": [
       "\\begin{enumerate*}\n",
       "\\item 36\n",
       "\\item 5\n",
       "\\end{enumerate*}\n"
      ],
      "text/markdown": [
       "1. 36\n",
       "2. 5\n",
       "\n",
       "\n"
      ],
      "text/plain": [
       "[1] 36  5"
      ]
     },
     "metadata": {},
     "output_type": "display_data"
    }
   ],
   "source": [
    "library(data.table)\n",
    "df <- as.data.table(merged_df)\n",
    "df <- df[order(Chr, Pos)]\n",
    "df[, group := cumsum(c(1, diff(Pos) > 999999 | diff(End) > 999999)), by = .(CN, Chr)]\n",
    "df_merged <- df[, .(\n",
    "  start = min(Pos),  # Take the minimum start position in each group\n",
    "  end = max(End),      # Take the maximum end position in each group\n",
    "  clone = paste(unique(clone), collapse = \",\")  # Merge cell names\n",
    "), by = .(CN, Chr, group)]\n",
    "\n",
    "df_merged[, group := NULL]\n",
    "\n",
    "# Print result\n",
    "dim(df_merged)"
   ]
  },
  {
   "cell_type": "code",
   "execution_count": 6,
   "id": "a7bcdeb9-583a-4ccb-8c28-d9e86f61c667",
   "metadata": {},
   "outputs": [],
   "source": [
    "df_m <- df_merged\n",
    "df_m <- df_m %>%\n",
    "  mutate(CN = ifelse(CN == 3, \"DUP\", CN))\n",
    "df_m <- df_m %>%\n",
    "  mutate(CN = ifelse(CN == 4, \"DUP\", CN))\n",
    "df_m <- df_m %>%\n",
    "  mutate(CN = ifelse(CN == 5, \"DUP\", CN))\n",
    "df_m <- df_m %>%\n",
    "  mutate(CN = ifelse(CN == 1, \"DEL\", CN))\n",
    "df_m <- df_m %>%\n",
    "  mutate(CN = ifelse(CN == 0, \"DEL\", CN))"
   ]
  },
  {
   "cell_type": "code",
   "execution_count": 7,
   "id": "d17d5946-d8aa-4bf5-84f5-1d60352077b1",
   "metadata": {},
   "outputs": [
    {
     "data": {
      "text/plain": [
       "\n",
       "DEL DUP \n",
       "  6  30 "
      ]
     },
     "metadata": {},
     "output_type": "display_data"
    }
   ],
   "source": [
    "table(df_m$CN)"
   ]
  },
  {
   "cell_type": "code",
   "execution_count": 8,
   "id": "e1180b6a-8bb0-4153-9c19-0f2e557bd9bf",
   "metadata": {},
   "outputs": [],
   "source": [
    "seg_data <- df_m\n",
    "convert_to_bed <- function(seg_dat) {\n",
    "  bed_data <- data.frame(\n",
    "    chrom = seg_data$Chr,\n",
    "    start = seg_data$start - 1,\n",
    "    end = seg_data$end,\n",
    "    name = seg_data$clone,\n",
    "    score = seg_data$CN\n",
    "  )\n",
    "  return(bed_data)\n",
    "}\n",
    "bed_data <- convert_to_bed(seg_data)\n",
    "#bed_file <- file.path(\"\", \"research\", \"groups\", \"bioinformaticians\", \"internship\", \"aalizade\", \"scRNA_bed\", \"EG15.bed\")\n",
    "write.table(bed_data, file = \"scevan.bed\", quote = FALSE, sep = \"\\t\", row.names = FALSE, col.names = FALSE)"
   ]
  },
  {
   "cell_type": "markdown",
   "id": "90d92672-dd3f-4945-9c71-49b4244fc19c",
   "metadata": {},
   "source": [
    "## Numbat"
   ]
  },
  {
   "cell_type": "code",
   "execution_count": null,
   "id": "064c4bef-6909-4430-9fc4-e8bde7af8307",
   "metadata": {},
   "outputs": [],
   "source": [
    "## example code for adding probabilities to the R object\n",
    "nb = Numbat$new(out_dir = '/research/groups/bioinformaticians/internship/aalizade/Trainee/numbat/runs/40D_default')\n",
    "\n",
    "df <- nb$joint_post\n",
    "\n",
    "cell_data_21b <- df %>%\n",
    "    filter(seg == \"21b\") %>%\n",
    "    select(cell, p_cnv) %>%\n",
    "    distinct() %>%\n",
    "    rename(joint_21b = p_cnv)\n",
    "\n",
    "merged <- df %>%\n",
    "  left_join(cell_data_21b, by = \"cell\")\n",
    "\n",
    "unique_cells_df <- merged %>% distinct(cell, .keep_all = TRUE)\n",
    "\n",
    "joint_probabilities <- unique_cells_df[, c(\"cell\", \"joint_21b\")]\n",
    "\n",
    "rownames(joint_probabilities) <- joint_probabilities$cell\n",
    "joint_probabilities$cell <- NULL \n",
    "\n",
    "seurat_obj <- AddMetaData(seurat_obj, metadata = joint_probabilities)\n",
    "seurat_obj@meta.data[is.na(seurat_obj@meta.data)] <- 0"
   ]
  },
  {
   "cell_type": "markdown",
   "id": "4aa15d3e-3019-4f9b-b03e-1f0454fe5795",
   "metadata": {},
   "source": [
    "## correlation between tools"
   ]
  },
  {
   "cell_type": "code",
   "execution_count": null,
   "id": "076b1975-ebeb-437b-bd37-e5b7b4afb972",
   "metadata": {},
   "outputs": [],
   "source": [
    "merged_data <- inner_join(params, f1_scores, by = \"sample\")\n",
    "cor_matrix <- cor(merged_data[,-1])\n",
    "corrplot(cor_matrix, method = \"color\", tl.cex = 0.7, type = \"upper\", order = \"hclust\")"
   ]
  },
  {
   "cell_type": "code",
   "execution_count": 1,
   "id": "756f919f-32be-4f7d-b516-5146ed1a8ec6",
   "metadata": {
    "collapsed": true,
    "jupyter": {
     "outputs_hidden": true
    },
    "scrolled": true
   },
   "outputs": [
    {
     "name": "stderr",
     "output_type": "stream",
     "text": [
      "\n",
      "Attaching package: ‘dplyr’\n",
      "\n",
      "\n",
      "The following objects are masked from ‘package:stats’:\n",
      "\n",
      "    filter, lag\n",
      "\n",
      "\n",
      "The following objects are masked from ‘package:base’:\n",
      "\n",
      "    intersect, setdiff, setequal, union\n",
      "\n",
      "\n",
      "Warning message in inner_join(char_long, f1_long, by = \"Sample\"):\n",
      "“\u001b[1m\u001b[22mDetected an unexpected many-to-many relationship between `x` and `y`.\n",
      "\u001b[36mℹ\u001b[39m Row 1 of `x` matches multiple rows in `y`.\n",
      "\u001b[36mℹ\u001b[39m Row 1 of `y` matches multiple rows in `x`.\n",
      "\u001b[36mℹ\u001b[39m If a many-to-many relationship is expected, set `relationship = \"many-to-many\"` to silence this warning.”\n",
      "\u001b[1m\u001b[22m`summarise()` has grouped output by 'Method'. You can override using the `.groups` argument.\n"
     ]
    },
    {
     "data": {
      "text/html": [
       "<strong>pdf:</strong> 2"
      ],
      "text/latex": [
       "\\textbf{pdf:} 2"
      ],
      "text/markdown": [
       "**pdf:** 2"
      ],
      "text/plain": [
       "pdf \n",
       "  2 "
      ]
     },
     "metadata": {},
     "output_type": "display_data"
    }
   ],
   "source": [
    "png(filename = \"correlation.png\", width = 1500, height = 900)\n",
    "library(ggplot2)\n",
    "library(reshape2)\n",
    "library(dplyr)\n",
    "\n",
    "char_data <- data.frame(\n",
    "  Characteristics = c(\"num_cell\", \"num_malignant\", \"num_healthy_ref\", \"num_G1\", \n",
    "                      \"median_genes_per_cell\", \"GT_DUP_portion\", \"GT_DEL_portion\", \n",
    "                      \"log10(mean_CNV_size)\", \"log10(mean_DEL_size)\", \"log10(mean_DUP_size)\", \"DUP_log10size>6_portion\", \"DEL_log10size>6_portion\"),\n",
    "  `40D` = c(5562, 3926, 1636, 3686, 2200, 29.4, 58.8, 7.0546, 7.05, 7.13, 60, 50),\n",
    "  `42D` = c(3515, 3203, 312, 2321, 1577, 11.1, 81.5, 6.2870, 6.28, 6.40, 66.6, 4.5),\n",
    "  `47D` = c(2752, 2579, 173, 1625, 3264, 41.6, 41.6, 7.3674, 7.36, 7.44, 86.6, 6.6)\n",
    "  #`DNTR40` = c(155, 53, 208, 357, 1928, 29.4, 58.8, 7.0546, 7.05, 7.13, 60, 50),\n",
    "  #`DNTR42` = c(82, 11, 93, 250, 1785, 11.1, 81.5, 6.2870, 6.28, 6.40, 66.6, 4.5)\n",
    ")\n",
    "\n",
    "f1_data <- data.frame(\n",
    "  Method = c(\"inferCNV_Gain\", \"inferCNV_Loss\", \"SCEVAN_Gain\", \"SCEVAN_Loss\", \"Numbat_Gain\", \"Numbat_Loss\", \"inferCNV\", \"SCEVAN\", \"Numbat\"),\n",
    "  `40D` = c(12.5, 17.7, 14.4, 33.8, 75, 57, 13.6, 23.2, 58.2),\n",
    "  `42D` = c(12, 58.6, 0, 14.5, 39.8, 0, 37.4, 12.8, 6.8),\n",
    "  `47D` = c(62, 15.6, 18.3, 7.8, 92.8, 0, 44.8, 13.1, 53)\n",
    "   #`DNTR40` = c(16.5, 11.7, 12.6, 9.6, NA, NA),\n",
    "  #`DNTR42` = c(24.4, 6.8, 24.4, 11.7, NA, NA)\n",
    ")\n",
    "\n",
    "char_long <- melt(char_data, id.vars = \"Characteristics\", variable.name = \"Sample\", value.name = \"Value\")\n",
    "f1_long <- melt(f1_data, id.vars = \"Method\", variable.name = \"Sample\", value.name = \"F1_Score\")\n",
    "\n",
    "merged_data <- inner_join(char_long, f1_long, by = \"Sample\")\n",
    "\n",
    "cor_matrix <- merged_data %>%\n",
    "  group_by(Method, Characteristics) %>%\n",
    "  summarise(Correlation = cor(Value, F1_Score, method = \"pearson\")) %>%\n",
    "  ungroup()\n",
    "\n",
    "ggplot(cor_matrix, aes(x = Method, y = Characteristics, fill = Correlation)) +\n",
    "  geom_tile(color = \"white\") +\n",
    "  geom_text(aes(label = round(Correlation, 2)), color = \"black\", size = 7) +\n",
    "  scale_fill_gradient2(low = \"blue\", mid = \"white\", high = \"red\", midpoint = 0) +\n",
    "  theme_minimal() +\n",
    "  labs(title = \"Correlation Heatmap: Characteristics vs Methods\", \n",
    "       x = \"Method\", y = \"Characteristics\", fill = \"Correlation\") +\n",
    "  theme(\n",
    "    plot.title = element_text(size = 24, face = \"bold\"), \n",
    "    axis.text.x = element_text(size = 18, angle = 45, hjust = 1), \n",
    "    axis.text.y = element_text(size = 18), \n",
    "    axis.title.x = element_text(size = 20),\n",
    "    axis.title.y = element_text(size = 20), \n",
    "    legend.title = element_text(size = 18), \n",
    "    legend.text = element_text(size = 16)\n",
    "  )\n",
    "dev.off()"
   ]
  },
  {
   "cell_type": "markdown",
   "id": "f335e434-d135-44c5-87d2-7ea3317abd5c",
   "metadata": {},
   "source": [
    "### Correlation between each pair of tools"
   ]
  },
  {
   "cell_type": "code",
   "execution_count": 109,
   "id": "d6d2bad7-e706-493a-a276-840d1d856b63",
   "metadata": {},
   "outputs": [
    {
     "data": {
      "text/html": [
       "<strong>pdf:</strong> 2"
      ],
      "text/latex": [
       "\\textbf{pdf:} 2"
      ],
      "text/markdown": [
       "**pdf:** 2"
      ],
      "text/plain": [
       "pdf \n",
       "  2 "
      ]
     },
     "metadata": {},
     "output_type": "display_data"
    }
   ],
   "source": [
    "png(filename = \"correlation.png\", width = 600, height = 500)\n",
    "ggplot(cor_results, aes(x = cor_expr1_expr2, y = cor_expr1_expr3, color = cor_expr2_expr3)) +\n",
    "  geom_point(alpha = 0.6, size = 2) +\n",
    "  scale_color_gradient2(low = \"blue\", mid = \"white\", high = \"red\", midpoint = 0) +\n",
    "  theme_minimal() +\n",
    "  labs(title = \"Pairwise Correlation Scatter Plot\",\n",
    "       x = \"Correlation (SCEVAN vs inferCNV)\",\n",
    "       y = \"Correlation (SCEVAN vs Numbat)\",\n",
    "       color = \"inferCNV vs Numbat\") +\n",
    "  geom_hline(yintercept = 0, linetype = \"dashed\", color = \"black\") +\n",
    "  geom_vline(xintercept = 0, linetype = \"dashed\", color = \"black\")\n",
    "dev.off()"
   ]
  },
  {
   "cell_type": "code",
   "execution_count": 114,
   "id": "5d4121eb-4f08-4f89-a0c3-fce9bb0b1a28",
   "metadata": {},
   "outputs": [
    {
     "data": {
      "text/html": [
       "<strong>pdf:</strong> 2"
      ],
      "text/latex": [
       "\\textbf{pdf:} 2"
      ],
      "text/markdown": [
       "**pdf:** 2"
      ],
      "text/plain": [
       "pdf \n",
       "  2 "
      ]
     },
     "metadata": {},
     "output_type": "display_data"
    }
   ],
   "source": [
    "png(filename = \"correlation.png\", width = 400, height = 400)\n",
    "library(ggplot2)\n",
    "ggplot(cor_results, aes(x = names(cor12), y = cor_expr2_expr3)) +\n",
    "  geom_point(color = \"blue\", alpha = 0.6) +\n",
    "  geom_hline(yintercept = 0, linetype = \"dashed\", color = \"red\") + \n",
    "  theme_minimal() +\n",
    "  labs(title = \"Correlation of Mean Expression per Region per Cell\",\n",
    "       x = \"Cell Barcode\",\n",
    "       y = \"Pearson Correlation\") +\n",
    "  theme(axis.text.x = element_blank(), \n",
    "        axis.ticks.x = element_blank())\n",
    "dev.off()"
   ]
  },
  {
   "cell_type": "code",
   "execution_count": 2,
   "id": "2b9e470a-ac04-445c-97f7-f8c31783da88",
   "metadata": {},
   "outputs": [
    {
     "data": {
      "text/html": [
       "<strong>pdf:</strong> 2"
      ],
      "text/latex": [
       "\\textbf{pdf:} 2"
      ],
      "text/markdown": [
       "**pdf:** 2"
      ],
      "text/plain": [
       "pdf \n",
       "  2 "
      ]
     },
     "metadata": {},
     "output_type": "display_data"
    }
   ],
   "source": [
    "png(\"heatmp.png\", width = 500, height = 500)\n",
    "library(ggplot2)\n",
    "library(reshape2)\n",
    "data <- data.frame(\n",
    "  Sample = c(\"ALL340D\", \"ALL342D\", \"ALL347D\"),\n",
    "  inferCNV_Precision = c(7.6, 25.5, 52.7),\n",
    "  inferCNV_Recall = c(64.7, 70.3, 39),\n",
    "  inferCNV_F1 = c(13.6, 37.4, 44.8),\n",
    "  SCEVAN_Precision = c(19.2, 15.1, 8.4),\n",
    "  SCEVAN_Recall = c(29.4, 11.1, 30.5),\n",
    "  SCEVAN_F1 = c(23.2, 12.8, 13.1),\n",
    "  Numbat_Precision = c(100, 50, 100),\n",
    "  Numbat_Recall = c(41.1, 3.7, 36.1),\n",
    "  Numbat_F1 = c(58.2, 6.8, 53)\n",
    ")\n",
    "\n",
    "data_long <- melt(data, id.vars = \"Sample\")\n",
    "colnames(data_long) <- c(\"Sample\", \"Metric\", \"Value\")\n",
    "\n",
    "ggplot(data_long, aes(x = Metric, y = Sample, fill = Value)) +\n",
    "  geom_tile() +\n",
    "  scale_fill_gradient2(low = \"blue\", mid = \"white\", high = \"red\", midpoint = 50) +\n",
    "  theme_minimal() +\n",
    "  theme(axis.text.x = element_text(angle = 45, hjust = 1)) +\n",
    "  labs(title = \"Heatmap of Precision, Recall, and F1 Scores\",\n",
    "       fill = \"Value\")\n",
    "dev.off()"
   ]
  },
  {
   "cell_type": "code",
   "execution_count": null,
   "id": "d6f221c9-e8de-4f7f-8c68-7ffdabedcd6f",
   "metadata": {},
   "outputs": [],
   "source": []
  }
 ],
 "metadata": {
  "kernelspec": {
   "display_name": "R",
   "language": "R",
   "name": "ir"
  },
  "language_info": {
   "codemirror_mode": "r",
   "file_extension": ".r",
   "mimetype": "text/x-r-source",
   "name": "R",
   "pygments_lexer": "r",
   "version": "4.4.1"
  }
 },
 "nbformat": 4,
 "nbformat_minor": 5
}
